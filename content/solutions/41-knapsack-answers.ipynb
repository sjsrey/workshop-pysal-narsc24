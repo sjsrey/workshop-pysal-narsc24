{
 "cells": [
  {
   "cell_type": "code",
   "execution_count": 1,
   "id": "fab3815a-1d88-4a4b-a1e0-2ac59fcb122c",
   "metadata": {},
   "outputs": [],
   "source": [
    "import pandas # work with tabular data in Python\n",
    "import pulp # the python package for mathematical programming"
   ]
  },
  {
   "cell_type": "code",
   "execution_count": 2,
   "id": "ddef64ea-0577-4370-94bb-45ae978020a1",
   "metadata": {},
   "outputs": [],
   "source": [
    "items = pandas.DataFrame.from_dict(\n",
    "    dict(\n",
    "        item_name = (\"pencils\", \"notebook\", \"extra paper\", \"pens\", \"water bottle\", \"chewing gum\", \"spare shoes\", \"lunch\", \"granola bar\"),\n",
    "        size = (1, 5, 3, 2, 8, 1, 10, 6, 4),\n",
    "        reward = (2, 2, 1, 1, 3, 1, 2, 2, 1),\n",
    "    )\n",
    ").set_index('item_name')"
   ]
  },
  {
   "cell_type": "markdown",
   "id": "a620fa76-7eb2-40b9-9fd6-2b70f255492b",
   "metadata": {},
   "source": [
    "# Do\n",
    "\n",
    "Now it is your turn. Using the techniques shown above, can you solve the following *extension* problems? "
   ]
  },
  {
   "cell_type": "markdown",
   "id": "81312aa4-fc43-45ac-b26a-9fb38bd30378",
   "metadata": {},
   "source": [
    "## An Important Math Test"
   ]
  },
  {
   "cell_type": "markdown",
   "id": "07d03cda-a3af-44e2-90b8-bd901eed00fb",
   "metadata": {},
   "source": [
    "You have a very important math test today. In order to be prepared for it, you have to consider [a few different items](https://vimeo.com/77451201) because of this: "
   ]
  },
  {
   "cell_type": "code",
   "execution_count": 3,
   "id": "b6fc0fcb-a5b2-4fa7-8561-d0c7a4c2d1d6",
   "metadata": {},
   "outputs": [
    {
     "data": {
      "text/html": [
       "<div>\n",
       "<style scoped>\n",
       "    .dataframe tbody tr th:only-of-type {\n",
       "        vertical-align: middle;\n",
       "    }\n",
       "\n",
       "    .dataframe tbody tr th {\n",
       "        vertical-align: top;\n",
       "    }\n",
       "\n",
       "    .dataframe thead th {\n",
       "        text-align: right;\n",
       "    }\n",
       "</style>\n",
       "<table border=\"1\" class=\"dataframe\">\n",
       "  <thead>\n",
       "    <tr style=\"text-align: right;\">\n",
       "      <th></th>\n",
       "      <th>size</th>\n",
       "      <th>reward</th>\n",
       "    </tr>\n",
       "    <tr>\n",
       "      <th>item_name</th>\n",
       "      <th></th>\n",
       "      <th></th>\n",
       "    </tr>\n",
       "  </thead>\n",
       "  <tbody>\n",
       "    <tr>\n",
       "      <th>pencils</th>\n",
       "      <td>1</td>\n",
       "      <td>2</td>\n",
       "    </tr>\n",
       "    <tr>\n",
       "      <th>notebook</th>\n",
       "      <td>5</td>\n",
       "      <td>2</td>\n",
       "    </tr>\n",
       "    <tr>\n",
       "      <th>extra paper</th>\n",
       "      <td>3</td>\n",
       "      <td>1</td>\n",
       "    </tr>\n",
       "    <tr>\n",
       "      <th>pens</th>\n",
       "      <td>2</td>\n",
       "      <td>1</td>\n",
       "    </tr>\n",
       "    <tr>\n",
       "      <th>water bottle</th>\n",
       "      <td>8</td>\n",
       "      <td>3</td>\n",
       "    </tr>\n",
       "    <tr>\n",
       "      <th>chewing gum</th>\n",
       "      <td>1</td>\n",
       "      <td>1</td>\n",
       "    </tr>\n",
       "    <tr>\n",
       "      <th>spare shoes</th>\n",
       "      <td>10</td>\n",
       "      <td>2</td>\n",
       "    </tr>\n",
       "    <tr>\n",
       "      <th>lunch</th>\n",
       "      <td>6</td>\n",
       "      <td>2</td>\n",
       "    </tr>\n",
       "    <tr>\n",
       "      <th>granola bar</th>\n",
       "      <td>4</td>\n",
       "      <td>1</td>\n",
       "    </tr>\n",
       "    <tr>\n",
       "      <th>protractor</th>\n",
       "      <td>1</td>\n",
       "      <td>2</td>\n",
       "    </tr>\n",
       "    <tr>\n",
       "      <th>calculator</th>\n",
       "      <td>4</td>\n",
       "      <td>4</td>\n",
       "    </tr>\n",
       "    <tr>\n",
       "      <th>pair of compasses</th>\n",
       "      <td>2</td>\n",
       "      <td>2</td>\n",
       "    </tr>\n",
       "    <tr>\n",
       "      <th>garry gum</th>\n",
       "      <td>1</td>\n",
       "      <td>2</td>\n",
       "    </tr>\n",
       "  </tbody>\n",
       "</table>\n",
       "</div>"
      ],
      "text/plain": [
       "                   size  reward\n",
       "item_name                      \n",
       "pencils               1       2\n",
       "notebook              5       2\n",
       "extra paper           3       1\n",
       "pens                  2       1\n",
       "water bottle          8       3\n",
       "chewing gum           1       1\n",
       "spare shoes          10       2\n",
       "lunch                 6       2\n",
       "granola bar           4       1\n",
       "protractor            1       2\n",
       "calculator            4       4\n",
       "pair of compasses     2       2\n",
       "garry gum             1       2"
      ]
     },
     "execution_count": 3,
     "metadata": {},
     "output_type": "execute_result"
    }
   ],
   "source": [
    "test_items = pandas.DataFrame.from_dict(\n",
    "    dict(\n",
    "        item_name = (\"protractor\", \"calculator\", \"pair of compasses\", \"garry gum\"),\n",
    "        size = (1, 4, 2, 1),\n",
    "        reward = (2, 4, 2, 2)\n",
    "        \n",
    "    )\n",
    ").set_index(\"item_name\")\n",
    "\n",
    "math_test = pandas.concat((items, test_items))\n",
    "math_test"
   ]
  },
  {
   "cell_type": "markdown",
   "id": "637472db-1d01-44f4-baba-989e6c4b806f",
   "metadata": {},
   "source": [
    "<div class=\"alert alert-warning\">\n",
    "Using the methods we discussed above, can you create a new knapsack problem object to solve this <b>new</b> problem? Are you going to be well-prepared for your math test? why or why not?\n",
    "</div>"
   ]
  },
  {
   "cell_type": "code",
   "execution_count": 4,
   "id": "050fc80f-dccb-445c-a73d-0b2a2d846ea3",
   "metadata": {},
   "outputs": [],
   "source": [
    "math_test_problem = pulp.LpProblem(\"math-test-knapsack\", pulp.LpMaximize)"
   ]
  },
  {
   "cell_type": "code",
   "execution_count": 6,
   "id": "7546c076-cb73-4e57-8ed7-91e6a5331681",
   "metadata": {},
   "outputs": [],
   "source": [
    "decision_variables = pulp.LpVariable.dicts(\"x\", \n",
    "                                           math_test.index, \n",
    "                                           lowBound=0, \n",
    "                                           upBound=1, \n",
    "                                           cat=pulp.LpBinary\n",
    "                                          )"
   ]
  },
  {
   "cell_type": "code",
   "execution_count": 7,
   "id": "78ef8a49-4c49-48cc-84f3-c56cfefbe944",
   "metadata": {},
   "outputs": [
    {
     "data": {
      "text/plain": [
       "{'pencils': x_pencils,\n",
       " 'notebook': x_notebook,\n",
       " 'extra paper': x_extra_paper,\n",
       " 'pens': x_pens,\n",
       " 'water bottle': x_water_bottle,\n",
       " 'chewing gum': x_chewing_gum,\n",
       " 'spare shoes': x_spare_shoes,\n",
       " 'lunch': x_lunch,\n",
       " 'granola bar': x_granola_bar,\n",
       " 'protractor': x_protractor,\n",
       " 'calculator': x_calculator,\n",
       " 'pair of compasses': x_pair_of_compasses,\n",
       " 'garry gum': x_garry_gum}"
      ]
     },
     "execution_count": 7,
     "metadata": {},
     "output_type": "execute_result"
    }
   ],
   "source": [
    "decision_variables"
   ]
  },
  {
   "cell_type": "code",
   "execution_count": 9,
   "id": "c5b0c2a5-0a78-42d6-8f42-aee19d863d73",
   "metadata": {},
   "outputs": [],
   "source": [
    "benefits = sum(\n",
    "    decision_variables[item_name] * math_test.loc[item_name, \"reward\"] \n",
    "    for item_name in math_test.index\n",
    ")"
   ]
  },
  {
   "cell_type": "code",
   "execution_count": 10,
   "id": "009d82c1-2b3e-4cb2-8323-c103ed1d9dc9",
   "metadata": {},
   "outputs": [],
   "source": [
    "costs = benefits = sum(\n",
    "    decision_variables[item_name] * math_test.loc[item_name, \"size\"] \n",
    "    for item_name in math_test.index\n",
    ")"
   ]
  },
  {
   "cell_type": "code",
   "execution_count": 11,
   "id": "b0476ddc-2fa8-4a6e-8016-f4a15f393f29",
   "metadata": {},
   "outputs": [
    {
     "data": {
      "text/plain": [
       "4*x_calculator + 1*x_chewing_gum + 3*x_extra_paper + 1*x_garry_gum + 4*x_granola_bar + 6*x_lunch + 5*x_notebook + 2*x_pair_of_compasses + 1*x_pencils + 2*x_pens + 1*x_protractor + 10*x_spare_shoes + 8*x_water_bottle + 0"
      ]
     },
     "execution_count": 11,
     "metadata": {},
     "output_type": "execute_result"
    }
   ],
   "source": [
    "costs"
   ]
  },
  {
   "cell_type": "code",
   "execution_count": 12,
   "id": "20a15f9f-8002-4266-a599-a770af9a1499",
   "metadata": {},
   "outputs": [
    {
     "data": {
      "text/plain": [
       "4*x_calculator + 1*x_chewing_gum + 3*x_extra_paper + 1*x_garry_gum + 4*x_granola_bar + 6*x_lunch + 5*x_notebook + 2*x_pair_of_compasses + 1*x_pencils + 2*x_pens + 1*x_protractor + 10*x_spare_shoes + 8*x_water_bottle + -25 <= 0"
      ]
     },
     "execution_count": 12,
     "metadata": {},
     "output_type": "execute_result"
    }
   ],
   "source": [
    "costs <= 25"
   ]
  },
  {
   "cell_type": "code",
   "execution_count": 13,
   "id": "46b00ba5-bc03-4766-b0f9-7143b7558cea",
   "metadata": {},
   "outputs": [],
   "source": [
    "math_test_problem += benefits"
   ]
  },
  {
   "cell_type": "code",
   "execution_count": 14,
   "id": "cb7520fd-57eb-42c4-91fc-cd1a494b3416",
   "metadata": {},
   "outputs": [],
   "source": [
    "math_test_problem += costs <= 25"
   ]
  },
  {
   "cell_type": "code",
   "execution_count": 15,
   "id": "e96f1d86-1e74-4096-bbc5-af913a18f69e",
   "metadata": {},
   "outputs": [
    {
     "data": {
      "text/plain": [
       "math-test-knapsack:\n",
       "MAXIMIZE\n",
       "4*x_calculator + 1*x_chewing_gum + 3*x_extra_paper + 1*x_garry_gum + 4*x_granola_bar + 6*x_lunch + 5*x_notebook + 2*x_pair_of_compasses + 1*x_pencils + 2*x_pens + 1*x_protractor + 10*x_spare_shoes + 8*x_water_bottle + 0\n",
       "SUBJECT TO\n",
       "_C1: 4 x_calculator + x_chewing_gum + 3 x_extra_paper + x_garry_gum\n",
       " + 4 x_granola_bar + 6 x_lunch + 5 x_notebook + 2 x_pair_of_compasses\n",
       " + x_pencils + 2 x_pens + x_protractor + 10 x_spare_shoes + 8 x_water_bottle\n",
       " <= 25\n",
       "\n",
       "VARIABLES\n",
       "0 <= x_calculator <= 1 Integer\n",
       "0 <= x_chewing_gum <= 1 Integer\n",
       "0 <= x_extra_paper <= 1 Integer\n",
       "0 <= x_garry_gum <= 1 Integer\n",
       "0 <= x_granola_bar <= 1 Integer\n",
       "0 <= x_lunch <= 1 Integer\n",
       "0 <= x_notebook <= 1 Integer\n",
       "0 <= x_pair_of_compasses <= 1 Integer\n",
       "0 <= x_pencils <= 1 Integer\n",
       "0 <= x_pens <= 1 Integer\n",
       "0 <= x_protractor <= 1 Integer\n",
       "0 <= x_spare_shoes <= 1 Integer\n",
       "0 <= x_water_bottle <= 1 Integer"
      ]
     },
     "execution_count": 15,
     "metadata": {},
     "output_type": "execute_result"
    }
   ],
   "source": [
    "math_test_problem"
   ]
  },
  {
   "cell_type": "code",
   "execution_count": 16,
   "id": "9ec64681-e589-47dd-a228-69891f24eb22",
   "metadata": {},
   "outputs": [
    {
     "name": "stdout",
     "output_type": "stream",
     "text": [
      "Welcome to the CBC MILP Solver \n",
      "Version: 2.10.10 \n",
      "Build Date: Apr 19 2023 \n",
      "\n",
      "command line - cbc /var/folders/g3/kfqgyscs7k59d1l6867ztwmh0000gn/T/9dabc5a8f2414e2aa52272c14df989e1-pulp.mps max timeMode elapsed branch printingOptions all solution /var/folders/g3/kfqgyscs7k59d1l6867ztwmh0000gn/T/9dabc5a8f2414e2aa52272c14df989e1-pulp.sol (default strategy 1)\n",
      "At line 2 NAME          MODEL\n",
      "At line 3 ROWS\n",
      "At line 6 COLUMNS\n",
      "At line 59 RHS\n",
      "At line 61 BOUNDS\n",
      "At line 75 ENDATA\n",
      "Problem MODEL has 1 rows, 13 columns and 13 elements\n",
      "Coin0008I MODEL read with 0 errors\n",
      "Option for timeMode changed from cpu to elapsed\n",
      "Continuous objective value is 25 - 0.00 seconds\n",
      "Cgl0004I processed model has 1 rows, 8 columns (8 integer (5 of which binary)) and 8 elements\n",
      "Cutoff increment increased from 1e-05 to 0.9999\n",
      "Cbc0038I Initial state - 1 integers unsatisfied sum - 0.5\n",
      "Cbc0038I Solution found of 25\n",
      "Cbc0038I Branch and bound needed to clear up 1 general integers\n",
      "Cbc0038I Full problem 1 rows 8 columns, reduced to 1 rows 3 columns\n",
      "Cbc0038I Cleaned solution of 25\n",
      "Cbc0038I Before mini branch and bound, 7 integers at bound fixed and 0 continuous\n",
      "Cbc0038I Mini branch and bound did not improve solution (0.02 seconds)\n",
      "Cbc0038I After 0.02 seconds - Feasibility pump exiting with objective of 25 - took 0.01 seconds\n",
      "Cbc0012I Integer solution of 25 found by feasibility pump after 0 iterations and 0 nodes (0.02 seconds)\n",
      "Cbc0001I Search completed - best objective 25, took 0 iterations and 0 nodes (0.02 seconds)\n",
      "Cbc0035I Maximum depth 0, 0 variables fixed on reduced cost\n",
      "Cuts at root node changed objective from 25 to 25\n",
      "Probing was tried 0 times and created 0 cuts of which 0 were active after adding rounds of cuts (0.000 seconds)\n",
      "Gomory was tried 0 times and created 0 cuts of which 0 were active after adding rounds of cuts (0.000 seconds)\n",
      "Knapsack was tried 0 times and created 0 cuts of which 0 were active after adding rounds of cuts (0.000 seconds)\n",
      "Clique was tried 0 times and created 0 cuts of which 0 were active after adding rounds of cuts (0.000 seconds)\n",
      "MixedIntegerRounding2 was tried 0 times and created 0 cuts of which 0 were active after adding rounds of cuts (0.000 seconds)\n",
      "FlowCover was tried 0 times and created 0 cuts of which 0 were active after adding rounds of cuts (0.000 seconds)\n",
      "TwoMirCuts was tried 0 times and created 0 cuts of which 0 were active after adding rounds of cuts (0.000 seconds)\n",
      "ZeroHalf was tried 0 times and created 0 cuts of which 0 were active after adding rounds of cuts (0.000 seconds)\n",
      "\n",
      "Result - Optimal solution found\n",
      "\n",
      "Objective value:                25.00000000\n",
      "Enumerated nodes:               0\n",
      "Total iterations:               0\n",
      "Time (CPU seconds):             0.01\n",
      "Time (Wallclock seconds):       0.02\n",
      "\n",
      "Option for printingOptions changed from normal to all\n",
      "Total time (CPU seconds):       0.01   (Wallclock seconds):       0.03\n",
      "\n"
     ]
    },
    {
     "data": {
      "text/plain": [
       "1"
      ]
     },
     "execution_count": 16,
     "metadata": {},
     "output_type": "execute_result"
    }
   ],
   "source": [
    "math_test_problem.solve()"
   ]
  },
  {
   "cell_type": "code",
   "execution_count": 17,
   "id": "28076bf2-2cfc-4423-9d1f-ca992613ca40",
   "metadata": {},
   "outputs": [
    {
     "data": {
      "text/html": [
       "<div>\n",
       "<style scoped>\n",
       "    .dataframe tbody tr th:only-of-type {\n",
       "        vertical-align: middle;\n",
       "    }\n",
       "\n",
       "    .dataframe tbody tr th {\n",
       "        vertical-align: top;\n",
       "    }\n",
       "\n",
       "    .dataframe thead th {\n",
       "        text-align: right;\n",
       "    }\n",
       "</style>\n",
       "<table border=\"1\" class=\"dataframe\">\n",
       "  <thead>\n",
       "    <tr style=\"text-align: right;\">\n",
       "      <th></th>\n",
       "      <th>size</th>\n",
       "      <th>reward</th>\n",
       "      <th>packed</th>\n",
       "    </tr>\n",
       "    <tr>\n",
       "      <th>item_name</th>\n",
       "      <th></th>\n",
       "      <th></th>\n",
       "      <th></th>\n",
       "    </tr>\n",
       "  </thead>\n",
       "  <tbody>\n",
       "    <tr>\n",
       "      <th>pencils</th>\n",
       "      <td>1</td>\n",
       "      <td>2</td>\n",
       "      <td>1.0</td>\n",
       "    </tr>\n",
       "    <tr>\n",
       "      <th>notebook</th>\n",
       "      <td>5</td>\n",
       "      <td>2</td>\n",
       "      <td>0.0</td>\n",
       "    </tr>\n",
       "    <tr>\n",
       "      <th>extra paper</th>\n",
       "      <td>3</td>\n",
       "      <td>1</td>\n",
       "      <td>0.0</td>\n",
       "    </tr>\n",
       "    <tr>\n",
       "      <th>pens</th>\n",
       "      <td>2</td>\n",
       "      <td>1</td>\n",
       "      <td>1.0</td>\n",
       "    </tr>\n",
       "    <tr>\n",
       "      <th>water bottle</th>\n",
       "      <td>8</td>\n",
       "      <td>3</td>\n",
       "      <td>1.0</td>\n",
       "    </tr>\n",
       "    <tr>\n",
       "      <th>chewing gum</th>\n",
       "      <td>1</td>\n",
       "      <td>1</td>\n",
       "      <td>1.0</td>\n",
       "    </tr>\n",
       "    <tr>\n",
       "      <th>spare shoes</th>\n",
       "      <td>10</td>\n",
       "      <td>2</td>\n",
       "      <td>1.0</td>\n",
       "    </tr>\n",
       "    <tr>\n",
       "      <th>lunch</th>\n",
       "      <td>6</td>\n",
       "      <td>2</td>\n",
       "      <td>0.0</td>\n",
       "    </tr>\n",
       "    <tr>\n",
       "      <th>granola bar</th>\n",
       "      <td>4</td>\n",
       "      <td>1</td>\n",
       "      <td>0.0</td>\n",
       "    </tr>\n",
       "    <tr>\n",
       "      <th>protractor</th>\n",
       "      <td>1</td>\n",
       "      <td>2</td>\n",
       "      <td>0.0</td>\n",
       "    </tr>\n",
       "    <tr>\n",
       "      <th>calculator</th>\n",
       "      <td>4</td>\n",
       "      <td>4</td>\n",
       "      <td>0.0</td>\n",
       "    </tr>\n",
       "    <tr>\n",
       "      <th>pair of compasses</th>\n",
       "      <td>2</td>\n",
       "      <td>2</td>\n",
       "      <td>1.0</td>\n",
       "    </tr>\n",
       "    <tr>\n",
       "      <th>garry gum</th>\n",
       "      <td>1</td>\n",
       "      <td>2</td>\n",
       "      <td>1.0</td>\n",
       "    </tr>\n",
       "  </tbody>\n",
       "</table>\n",
       "</div>"
      ],
      "text/plain": [
       "                   size  reward  packed\n",
       "item_name                              \n",
       "pencils               1       2     1.0\n",
       "notebook              5       2     0.0\n",
       "extra paper           3       1     0.0\n",
       "pens                  2       1     1.0\n",
       "water bottle          8       3     1.0\n",
       "chewing gum           1       1     1.0\n",
       "spare shoes          10       2     1.0\n",
       "lunch                 6       2     0.0\n",
       "granola bar           4       1     0.0\n",
       "protractor            1       2     0.0\n",
       "calculator            4       4     0.0\n",
       "pair of compasses     2       2     1.0\n",
       "garry gum             1       2     1.0"
      ]
     },
     "execution_count": 17,
     "metadata": {},
     "output_type": "execute_result"
    }
   ],
   "source": [
    "math_test.assign(\n",
    "    packed = [\n",
    "        decision_variables[item_name].varValue for item_name in math_test.index\n",
    "    ]\n",
    ")"
   ]
  },
  {
   "cell_type": "markdown",
   "id": "10d35ebf-b250-44c7-b1e9-0ef85a9eb5e9",
   "metadata": {},
   "source": [
    "So, no lunch on math test day! And, you don't bring your calculator? that might be a bad choice! "
   ]
  },
  {
   "cell_type": "markdown",
   "id": "35891de0-63e0-49b9-9851-9e1ccaf706a8",
   "metadata": {},
   "source": [
    "## The Grand Gum Ban"
   ]
  },
  {
   "cell_type": "markdown",
   "id": "650d4760-eba8-4b04-b29c-154655caf2ae",
   "metadata": {},
   "source": [
    "When packing for your math test, you remember that your school's ban on chewing gum has come into force today, so you derive *no* benefit from taking your gum to school: "
   ]
  },
  {
   "cell_type": "code",
   "execution_count": 18,
   "id": "2e681868-0a4a-4e2c-9583-75b2cf23fc59",
   "metadata": {},
   "outputs": [],
   "source": [
    "gum_ban = math_test.copy()\n",
    "gum_ban.loc['chewing gum', 'reward'] = 0"
   ]
  },
  {
   "cell_type": "markdown",
   "id": "4643ed0c-ad19-4d62-9f69-fc2f6374ab45",
   "metadata": {},
   "source": [
    "<div class=\"alert alert-warning\">\n",
    "Using the methods we discussed above, can you create a new knapsack problem object to solve this <b>new</b> problem? How does the solution differ? from that which you found in <b>An Important Math Test</b>?\n",
    "</div>"
   ]
  },
  {
   "cell_type": "code",
   "execution_count": 19,
   "id": "a52a05dc-5f90-454b-bb2d-9d46bf250ddc",
   "metadata": {},
   "outputs": [],
   "source": [
    "gum_ban_problem = pulp.LpProblem(\"gum-ban-knapsack\", pulp.LpMaximize)\n",
    "gum_ban_dvs = pulp.LpVariable.dicts(\"x\", \n",
    "                                    gum_ban.index, \n",
    "                                    lowBound=0, \n",
    "                                    upBound=1, \n",
    "                                    cat=pulp.LpBinary\n",
    "                                   )\n",
    "gum_ban_objective = sum(\n",
    "    gum_ban.loc[item, 'reward'] * gum_ban_dvs[item] \n",
    "    for item in gum_ban.index\n",
    ")\n",
    "gum_ban_constraint = sum(\n",
    "    gum_ban.loc[item, 'size'] * gum_ban_dvs[item] \n",
    "    for item in gum_ban.index\n",
    ")\n",
    "gum_ban_problem += gum_ban_objective\n",
    "gum_ban_problem += gum_ban_constraint <= 25"
   ]
  },
  {
   "cell_type": "code",
   "execution_count": 20,
   "id": "a29bed74-e937-449e-896b-9d2469640cce",
   "metadata": {},
   "outputs": [
    {
     "data": {
      "text/plain": [
       "1"
      ]
     },
     "execution_count": 20,
     "metadata": {},
     "output_type": "execute_result"
    }
   ],
   "source": [
    "solver = pulp.COIN_CMD(msg=False) # stop printing so much noise\n",
    "gum_ban_problem.solve(solver)"
   ]
  },
  {
   "cell_type": "code",
   "execution_count": 21,
   "id": "20e770a7-7795-4951-a06f-a7cc5de7b442",
   "metadata": {},
   "outputs": [
    {
     "data": {
      "text/html": [
       "<div>\n",
       "<style scoped>\n",
       "    .dataframe tbody tr th:only-of-type {\n",
       "        vertical-align: middle;\n",
       "    }\n",
       "\n",
       "    .dataframe tbody tr th {\n",
       "        vertical-align: top;\n",
       "    }\n",
       "\n",
       "    .dataframe thead th {\n",
       "        text-align: right;\n",
       "    }\n",
       "</style>\n",
       "<table border=\"1\" class=\"dataframe\">\n",
       "  <thead>\n",
       "    <tr style=\"text-align: right;\">\n",
       "      <th></th>\n",
       "      <th>size</th>\n",
       "      <th>reward</th>\n",
       "      <th>packed_now</th>\n",
       "      <th>packed_before</th>\n",
       "    </tr>\n",
       "    <tr>\n",
       "      <th>item_name</th>\n",
       "      <th></th>\n",
       "      <th></th>\n",
       "      <th></th>\n",
       "      <th></th>\n",
       "    </tr>\n",
       "  </thead>\n",
       "  <tbody>\n",
       "    <tr>\n",
       "      <th>pencils</th>\n",
       "      <td>1</td>\n",
       "      <td>2</td>\n",
       "      <td>1.0</td>\n",
       "      <td>1.0</td>\n",
       "    </tr>\n",
       "    <tr>\n",
       "      <th>notebook</th>\n",
       "      <td>5</td>\n",
       "      <td>2</td>\n",
       "      <td>1.0</td>\n",
       "      <td>0.0</td>\n",
       "    </tr>\n",
       "    <tr>\n",
       "      <th>extra paper</th>\n",
       "      <td>3</td>\n",
       "      <td>1</td>\n",
       "      <td>0.0</td>\n",
       "      <td>0.0</td>\n",
       "    </tr>\n",
       "    <tr>\n",
       "      <th>pens</th>\n",
       "      <td>2</td>\n",
       "      <td>1</td>\n",
       "      <td>1.0</td>\n",
       "      <td>1.0</td>\n",
       "    </tr>\n",
       "    <tr>\n",
       "      <th>water bottle</th>\n",
       "      <td>8</td>\n",
       "      <td>3</td>\n",
       "      <td>1.0</td>\n",
       "      <td>1.0</td>\n",
       "    </tr>\n",
       "    <tr>\n",
       "      <th>chewing gum</th>\n",
       "      <td>1</td>\n",
       "      <td>0</td>\n",
       "      <td>0.0</td>\n",
       "      <td>1.0</td>\n",
       "    </tr>\n",
       "    <tr>\n",
       "      <th>spare shoes</th>\n",
       "      <td>10</td>\n",
       "      <td>2</td>\n",
       "      <td>0.0</td>\n",
       "      <td>1.0</td>\n",
       "    </tr>\n",
       "    <tr>\n",
       "      <th>lunch</th>\n",
       "      <td>6</td>\n",
       "      <td>2</td>\n",
       "      <td>0.0</td>\n",
       "      <td>0.0</td>\n",
       "    </tr>\n",
       "    <tr>\n",
       "      <th>granola bar</th>\n",
       "      <td>4</td>\n",
       "      <td>1</td>\n",
       "      <td>0.0</td>\n",
       "      <td>0.0</td>\n",
       "    </tr>\n",
       "    <tr>\n",
       "      <th>protractor</th>\n",
       "      <td>1</td>\n",
       "      <td>2</td>\n",
       "      <td>1.0</td>\n",
       "      <td>0.0</td>\n",
       "    </tr>\n",
       "    <tr>\n",
       "      <th>calculator</th>\n",
       "      <td>4</td>\n",
       "      <td>4</td>\n",
       "      <td>1.0</td>\n",
       "      <td>0.0</td>\n",
       "    </tr>\n",
       "    <tr>\n",
       "      <th>pair of compasses</th>\n",
       "      <td>2</td>\n",
       "      <td>2</td>\n",
       "      <td>1.0</td>\n",
       "      <td>1.0</td>\n",
       "    </tr>\n",
       "    <tr>\n",
       "      <th>garry gum</th>\n",
       "      <td>1</td>\n",
       "      <td>2</td>\n",
       "      <td>1.0</td>\n",
       "      <td>1.0</td>\n",
       "    </tr>\n",
       "  </tbody>\n",
       "</table>\n",
       "</div>"
      ],
      "text/plain": [
       "                   size  reward  packed_now  packed_before\n",
       "item_name                                                 \n",
       "pencils               1       2         1.0            1.0\n",
       "notebook              5       2         1.0            0.0\n",
       "extra paper           3       1         0.0            0.0\n",
       "pens                  2       1         1.0            1.0\n",
       "water bottle          8       3         1.0            1.0\n",
       "chewing gum           1       0         0.0            1.0\n",
       "spare shoes          10       2         0.0            1.0\n",
       "lunch                 6       2         0.0            0.0\n",
       "granola bar           4       1         0.0            0.0\n",
       "protractor            1       2         1.0            0.0\n",
       "calculator            4       4         1.0            0.0\n",
       "pair of compasses     2       2         1.0            1.0\n",
       "garry gum             1       2         1.0            1.0"
      ]
     },
     "execution_count": 21,
     "metadata": {},
     "output_type": "execute_result"
    }
   ],
   "source": [
    "gum_ban.assign(\n",
    "    packed_now = [\n",
    "        gum_ban_dvs[item_name].varValue for item_name in gum_ban.index\n",
    "    ],\n",
    "    packed_before = [\n",
    "        decision_variables[item_name].varValue for item_name in math_test.index\n",
    "    ]\n",
    ")"
   ]
  },
  {
   "cell_type": "markdown",
   "id": "63f983e2-396c-4c93-b117-8c38426a50ef",
   "metadata": {},
   "source": [
    "You can see that, now that we derive no benefit from chewing gum, we don't take any chewing gum to the test. However, we now also take our protractor and calculator! "
   ]
  },
  {
   "cell_type": "markdown",
   "id": "2a797369-0fdf-418c-ba55-010e7971d15c",
   "metadata": {},
   "source": [
    "## Challenge: If I catch you without your shoes again one more time...!"
   ]
  },
  {
   "cell_type": "markdown",
   "id": "67f3cf41-c731-4e42-8d83-bbaa8b1dcdbf",
   "metadata": {},
   "source": [
    "Your Physical Education teacher is very upset that you have \"forgotten\" to bring your spare shoes so often.\n",
    "<div class=\"alert alert-warning\">\n",
    "Can you implement a <i>new constraint</i> that makes sure you bring your spare shoes to school? If not, how high do you have to set the \"spare shoes\" reward until it becomes optimal to bring the shoes? \n",
    "</div>"
   ]
  },
  {
   "cell_type": "code",
   "execution_count": 22,
   "id": "8055e2e6-9d06-4214-8e98-f25727711df1",
   "metadata": {},
   "outputs": [
    {
     "data": {
      "text/plain": [
       "1"
      ]
     },
     "execution_count": 22,
     "metadata": {},
     "output_type": "execute_result"
    }
   ],
   "source": [
    "gym_problem = pulp.LpProblem(\"gym-knapsack\", pulp.LpMaximize)\n",
    "gym_dvs = pulp.LpVariable.dicts(\"x\", \n",
    "                                    items.index, \n",
    "                                    lowBound=0, \n",
    "                                    upBound=1, \n",
    "                                    cat=pulp.LpBinary\n",
    "                                   )\n",
    "gym_objective = sum(\n",
    "    gum_ban.loc[item, 'reward'] * gym_dvs[item] \n",
    "    for item in items.index\n",
    ")\n",
    "gym_capacity = sum(\n",
    "    gum_ban.loc[item, 'size'] * gym_dvs[item] \n",
    "    for item in items.index\n",
    ")\n",
    "\n",
    "gym_problem += gym_objective\n",
    "gym_problem += gym_capacity <= 25\n",
    "\n",
    "# new constraint\n",
    "gym_problem += gym_dvs['spare shoes'] >= 1\n",
    "\n",
    "gym_problem.solve(solver)"
   ]
  },
  {
   "cell_type": "code",
   "execution_count": 24,
   "id": "b4e7133a-b1be-41c3-b9a0-6eadac27e29a",
   "metadata": {},
   "outputs": [
    {
     "data": {
      "text/plain": [
       "gym-knapsack:\n",
       "MAXIMIZE\n",
       "1*x_extra_paper + 1*x_granola_bar + 2*x_lunch + 2*x_notebook + 2*x_pencils + 1*x_pens + 2*x_spare_shoes + 3*x_water_bottle + 0\n",
       "SUBJECT TO\n",
       "_C1: x_chewing_gum + 3 x_extra_paper + 4 x_granola_bar + 6 x_lunch\n",
       " + 5 x_notebook + x_pencils + 2 x_pens + 10 x_spare_shoes + 8 x_water_bottle\n",
       " <= 25\n",
       "\n",
       "_C2: x_spare_shoes >= 1\n",
       "\n",
       "VARIABLES\n",
       "0 <= x_chewing_gum <= 1 Integer\n",
       "0 <= x_extra_paper <= 1 Integer\n",
       "0 <= x_granola_bar <= 1 Integer\n",
       "0 <= x_lunch <= 1 Integer\n",
       "0 <= x_notebook <= 1 Integer\n",
       "0 <= x_pencils <= 1 Integer\n",
       "0 <= x_pens <= 1 Integer\n",
       "0 <= x_spare_shoes <= 1 Integer\n",
       "0 <= x_water_bottle <= 1 Integer"
      ]
     },
     "execution_count": 24,
     "metadata": {},
     "output_type": "execute_result"
    }
   ],
   "source": [
    "gym_problem"
   ]
  },
  {
   "cell_type": "code",
   "execution_count": 23,
   "id": "2c702f04-d4fc-4d71-84a6-6c6078da360b",
   "metadata": {},
   "outputs": [
    {
     "data": {
      "text/html": [
       "<div>\n",
       "<style scoped>\n",
       "    .dataframe tbody tr th:only-of-type {\n",
       "        vertical-align: middle;\n",
       "    }\n",
       "\n",
       "    .dataframe tbody tr th {\n",
       "        vertical-align: top;\n",
       "    }\n",
       "\n",
       "    .dataframe thead th {\n",
       "        text-align: right;\n",
       "    }\n",
       "</style>\n",
       "<table border=\"1\" class=\"dataframe\">\n",
       "  <thead>\n",
       "    <tr style=\"text-align: right;\">\n",
       "      <th></th>\n",
       "      <th>size</th>\n",
       "      <th>reward</th>\n",
       "      <th>packed</th>\n",
       "    </tr>\n",
       "    <tr>\n",
       "      <th>item_name</th>\n",
       "      <th></th>\n",
       "      <th></th>\n",
       "      <th></th>\n",
       "    </tr>\n",
       "  </thead>\n",
       "  <tbody>\n",
       "    <tr>\n",
       "      <th>pencils</th>\n",
       "      <td>1</td>\n",
       "      <td>2</td>\n",
       "      <td>1.0</td>\n",
       "    </tr>\n",
       "    <tr>\n",
       "      <th>notebook</th>\n",
       "      <td>5</td>\n",
       "      <td>2</td>\n",
       "      <td>1.0</td>\n",
       "    </tr>\n",
       "    <tr>\n",
       "      <th>extra paper</th>\n",
       "      <td>3</td>\n",
       "      <td>1</td>\n",
       "      <td>1.0</td>\n",
       "    </tr>\n",
       "    <tr>\n",
       "      <th>pens</th>\n",
       "      <td>2</td>\n",
       "      <td>1</td>\n",
       "      <td>1.0</td>\n",
       "    </tr>\n",
       "    <tr>\n",
       "      <th>water bottle</th>\n",
       "      <td>8</td>\n",
       "      <td>3</td>\n",
       "      <td>0.0</td>\n",
       "    </tr>\n",
       "    <tr>\n",
       "      <th>chewing gum</th>\n",
       "      <td>1</td>\n",
       "      <td>1</td>\n",
       "      <td>0.0</td>\n",
       "    </tr>\n",
       "    <tr>\n",
       "      <th>spare shoes</th>\n",
       "      <td>10</td>\n",
       "      <td>2</td>\n",
       "      <td>1.0</td>\n",
       "    </tr>\n",
       "    <tr>\n",
       "      <th>lunch</th>\n",
       "      <td>6</td>\n",
       "      <td>2</td>\n",
       "      <td>0.0</td>\n",
       "    </tr>\n",
       "    <tr>\n",
       "      <th>granola bar</th>\n",
       "      <td>4</td>\n",
       "      <td>1</td>\n",
       "      <td>1.0</td>\n",
       "    </tr>\n",
       "  </tbody>\n",
       "</table>\n",
       "</div>"
      ],
      "text/plain": [
       "              size  reward  packed\n",
       "item_name                         \n",
       "pencils          1       2     1.0\n",
       "notebook         5       2     1.0\n",
       "extra paper      3       1     1.0\n",
       "pens             2       1     1.0\n",
       "water bottle     8       3     0.0\n",
       "chewing gum      1       1     0.0\n",
       "spare shoes     10       2     1.0\n",
       "lunch            6       2     0.0\n",
       "granola bar      4       1     1.0"
      ]
     },
     "execution_count": 23,
     "metadata": {},
     "output_type": "execute_result"
    }
   ],
   "source": [
    "items.assign(\n",
    "    packed = [\n",
    "        gym_dvs[item_name].varValue for item_name in items.index\n",
    "    ]\n",
    ")"
   ]
  },
  {
   "cell_type": "markdown",
   "id": "e3eb55e8-0090-43df-9793-04d787746b2d",
   "metadata": {},
   "source": [
    "Our shoes get packed, but to do this, we have to leave behind our water bottle, which we took every other time! "
   ]
  }
 ],
 "metadata": {
  "kernelspec": {
   "display_name": "Python 3 (ipykernel)",
   "language": "python",
   "name": "python3"
  },
  "language_info": {
   "codemirror_mode": {
    "name": "ipython",
    "version": 3
   },
   "file_extension": ".py",
   "mimetype": "text/x-python",
   "name": "python",
   "nbconvert_exporter": "python",
   "pygments_lexer": "ipython3",
   "version": "3.11.3"
  }
 },
 "nbformat": 4,
 "nbformat_minor": 5
}
